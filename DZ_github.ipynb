{
 "cells": [
  {
   "cell_type": "code",
   "execution_count": 41,
   "id": "89a25fd3-b8d9-4265-a560-90f84062af03",
   "metadata": {},
   "outputs": [],
   "source": [
    "import pandas as pd"
   ]
  },
  {
   "cell_type": "code",
   "execution_count": 35,
   "id": "64447af5-928d-4774-a60e-4f6e1414bdfe",
   "metadata": {},
   "outputs": [
    {
     "name": "stdout",
     "output_type": "stream",
     "text": [
      "Collecting psycopg2\n",
      "  Downloading psycopg2-2.9.9-cp312-cp312-win_amd64.whl.metadata (4.5 kB)\n",
      "Downloading psycopg2-2.9.9-cp312-cp312-win_amd64.whl (1.2 MB)\n",
      "   ---------------------------------------- 0.0/1.2 MB ? eta -:--:--\n",
      "   - -------------------------------------- 0.0/1.2 MB 435.7 kB/s eta 0:00:03\n",
      "   - -------------------------------------- 0.0/1.2 MB 435.7 kB/s eta 0:00:03\n",
      "   - -------------------------------------- 0.0/1.2 MB 435.7 kB/s eta 0:00:03\n",
      "   - -------------------------------------- 0.0/1.2 MB 435.7 kB/s eta 0:00:03\n",
      "   - -------------------------------------- 0.0/1.2 MB 178.6 kB/s eta 0:00:07\n",
      "   -- ------------------------------------- 0.1/1.2 MB 262.6 kB/s eta 0:00:05\n",
      "   --- ------------------------------------ 0.1/1.2 MB 309.1 kB/s eta 0:00:04\n",
      "   --- ------------------------------------ 0.1/1.2 MB 309.1 kB/s eta 0:00:04\n",
      "   --- ------------------------------------ 0.1/1.2 MB 309.1 kB/s eta 0:00:04\n",
      "   ---- ----------------------------------- 0.1/1.2 MB 277.4 kB/s eta 0:00:04\n",
      "   ------ --------------------------------- 0.2/1.2 MB 372.0 kB/s eta 0:00:03\n",
      "   ------- -------------------------------- 0.2/1.2 MB 444.3 kB/s eta 0:00:03\n",
      "   ------- -------------------------------- 0.2/1.2 MB 444.3 kB/s eta 0:00:03\n",
      "   -------- ------------------------------- 0.3/1.2 MB 425.2 kB/s eta 0:00:03\n",
      "   ---------- ----------------------------- 0.3/1.2 MB 475.1 kB/s eta 0:00:02\n",
      "   ------------- -------------------------- 0.4/1.2 MB 577.6 kB/s eta 0:00:02\n",
      "   ----------------- ---------------------- 0.5/1.2 MB 715.5 kB/s eta 0:00:01\n",
      "   ----------------- ---------------------- 0.5/1.2 MB 698.8 kB/s eta 0:00:01\n",
      "   -------------------- ------------------- 0.6/1.2 MB 732.3 kB/s eta 0:00:01\n",
      "   ----------------------- ---------------- 0.7/1.2 MB 828.6 kB/s eta 0:00:01\n",
      "   ------------------------------ --------- 0.9/1.2 MB 994.7 kB/s eta 0:00:01\n",
      "   --------------------------------- ------ 1.0/1.2 MB 1.1 MB/s eta 0:00:01\n",
      "   ------------------------------------- -- 1.1/1.2 MB 1.2 MB/s eta 0:00:01\n",
      "   ---------------------------------------- 1.2/1.2 MB 1.2 MB/s eta 0:00:00\n",
      "Installing collected packages: psycopg2\n",
      "Successfully installed psycopg2-2.9.9\n",
      "Note: you may need to restart the kernel to use updated packages.\n"
     ]
    }
   ],
   "source": []
  },
  {
   "cell_type": "code",
   "execution_count": null,
   "id": "8d233352-5a11-40de-842e-568556246645",
   "metadata": {},
   "outputs": [],
   "source": [
    "#Подключение к БД и вывод содержимого таблицы 'flights'"
   ]
  },
  {
   "cell_type": "code",
   "execution_count": 54,
   "id": "1bd1138e-2053-4597-9ef2-761378228611",
   "metadata": {},
   "outputs": [
    {
     "name": "stderr",
     "output_type": "stream",
     "text": [
      "C:\\Users\\#slash\\AppData\\Local\\Temp\\ipykernel_1328\\4009591350.py:3: UserWarning: pandas only supports SQLAlchemy connectable (engine/connection) or database string URI or sqlite3 DBAPI2 connection. Other DBAPI2 objects are not tested. Please consider using SQLAlchemy.\n",
      "  df=pd.read_sql('select * from flights', con=engine)\n"
     ]
    },
    {
     "data": {
      "text/html": [
       "<div>\n",
       "<style scoped>\n",
       "    .dataframe tbody tr th:only-of-type {\n",
       "        vertical-align: middle;\n",
       "    }\n",
       "\n",
       "    .dataframe tbody tr th {\n",
       "        vertical-align: top;\n",
       "    }\n",
       "\n",
       "    .dataframe thead th {\n",
       "        text-align: right;\n",
       "    }\n",
       "</style>\n",
       "<table border=\"1\" class=\"dataframe\">\n",
       "  <thead>\n",
       "    <tr style=\"text-align: right;\">\n",
       "      <th></th>\n",
       "      <th>flight_id</th>\n",
       "      <th>flight_no</th>\n",
       "      <th>scheduled_departure</th>\n",
       "      <th>scheduled_arrival</th>\n",
       "      <th>departure_airport</th>\n",
       "      <th>arrival_airport</th>\n",
       "      <th>status</th>\n",
       "      <th>aircraft_code</th>\n",
       "      <th>actual_departure</th>\n",
       "      <th>actual_arrival</th>\n",
       "    </tr>\n",
       "  </thead>\n",
       "  <tbody>\n",
       "    <tr>\n",
       "      <th>0</th>\n",
       "      <td>182</td>\n",
       "      <td>PG0402</td>\n",
       "      <td>2017-09-01 09:25:00+00:00</td>\n",
       "      <td>2017-09-01 10:20:00+00:00</td>\n",
       "      <td>DME</td>\n",
       "      <td>LED</td>\n",
       "      <td>Scheduled</td>\n",
       "      <td>321</td>\n",
       "      <td>NaT</td>\n",
       "      <td>NaT</td>\n",
       "    </tr>\n",
       "    <tr>\n",
       "      <th>1</th>\n",
       "      <td>1996</td>\n",
       "      <td>PG0335</td>\n",
       "      <td>2017-08-26 06:30:00+00:00</td>\n",
       "      <td>2017-08-26 08:35:00+00:00</td>\n",
       "      <td>DME</td>\n",
       "      <td>JOK</td>\n",
       "      <td>Scheduled</td>\n",
       "      <td>CN1</td>\n",
       "      <td>NaT</td>\n",
       "      <td>NaT</td>\n",
       "    </tr>\n",
       "    <tr>\n",
       "      <th>2</th>\n",
       "      <td>5979</td>\n",
       "      <td>PG0384</td>\n",
       "      <td>2017-08-26 09:10:00+00:00</td>\n",
       "      <td>2017-08-26 09:40:00+00:00</td>\n",
       "      <td>DME</td>\n",
       "      <td>BZK</td>\n",
       "      <td>Scheduled</td>\n",
       "      <td>SU9</td>\n",
       "      <td>NaT</td>\n",
       "      <td>NaT</td>\n",
       "    </tr>\n",
       "    <tr>\n",
       "      <th>3</th>\n",
       "      <td>8136</td>\n",
       "      <td>PG0138</td>\n",
       "      <td>2017-08-28 07:15:00+00:00</td>\n",
       "      <td>2017-08-28 08:20:00+00:00</td>\n",
       "      <td>VKO</td>\n",
       "      <td>RTW</td>\n",
       "      <td>Scheduled</td>\n",
       "      <td>CR2</td>\n",
       "      <td>NaT</td>\n",
       "      <td>NaT</td>\n",
       "    </tr>\n",
       "    <tr>\n",
       "      <th>4</th>\n",
       "      <td>10455</td>\n",
       "      <td>PG0277</td>\n",
       "      <td>2017-09-12 08:45:00+00:00</td>\n",
       "      <td>2017-09-12 12:10:00+00:00</td>\n",
       "      <td>SVO</td>\n",
       "      <td>OVB</td>\n",
       "      <td>Scheduled</td>\n",
       "      <td>773</td>\n",
       "      <td>NaT</td>\n",
       "      <td>NaT</td>\n",
       "    </tr>\n",
       "    <tr>\n",
       "      <th>...</th>\n",
       "      <td>...</td>\n",
       "      <td>...</td>\n",
       "      <td>...</td>\n",
       "      <td>...</td>\n",
       "      <td>...</td>\n",
       "      <td>...</td>\n",
       "      <td>...</td>\n",
       "      <td>...</td>\n",
       "      <td>...</td>\n",
       "      <td>...</td>\n",
       "    </tr>\n",
       "    <tr>\n",
       "      <th>65659</th>\n",
       "      <td>65660</td>\n",
       "      <td>PG0063</td>\n",
       "      <td>2017-06-26 16:25:00+00:00</td>\n",
       "      <td>2017-06-26 17:10:00+00:00</td>\n",
       "      <td>SKX</td>\n",
       "      <td>SVO</td>\n",
       "      <td>Arrived</td>\n",
       "      <td>CR2</td>\n",
       "      <td>2017-06-26 16:27:00+00:00</td>\n",
       "      <td>2017-06-26 17:12:00+00:00</td>\n",
       "    </tr>\n",
       "    <tr>\n",
       "      <th>65660</th>\n",
       "      <td>65661</td>\n",
       "      <td>PG0063</td>\n",
       "      <td>2017-08-10 16:25:00+00:00</td>\n",
       "      <td>2017-08-10 17:10:00+00:00</td>\n",
       "      <td>SKX</td>\n",
       "      <td>SVO</td>\n",
       "      <td>Arrived</td>\n",
       "      <td>CR2</td>\n",
       "      <td>2017-08-10 16:27:00+00:00</td>\n",
       "      <td>2017-08-10 17:13:00+00:00</td>\n",
       "    </tr>\n",
       "    <tr>\n",
       "      <th>65661</th>\n",
       "      <td>65662</td>\n",
       "      <td>PG0063</td>\n",
       "      <td>2017-06-16 16:25:00+00:00</td>\n",
       "      <td>2017-06-16 17:10:00+00:00</td>\n",
       "      <td>SKX</td>\n",
       "      <td>SVO</td>\n",
       "      <td>Arrived</td>\n",
       "      <td>CR2</td>\n",
       "      <td>2017-06-16 16:28:00+00:00</td>\n",
       "      <td>2017-06-16 17:14:00+00:00</td>\n",
       "    </tr>\n",
       "    <tr>\n",
       "      <th>65662</th>\n",
       "      <td>65663</td>\n",
       "      <td>PG0063</td>\n",
       "      <td>2017-09-10 16:25:00+00:00</td>\n",
       "      <td>2017-09-10 17:10:00+00:00</td>\n",
       "      <td>SKX</td>\n",
       "      <td>SVO</td>\n",
       "      <td>Scheduled</td>\n",
       "      <td>CR2</td>\n",
       "      <td>NaT</td>\n",
       "      <td>NaT</td>\n",
       "    </tr>\n",
       "    <tr>\n",
       "      <th>65663</th>\n",
       "      <td>65664</td>\n",
       "      <td>PG0063</td>\n",
       "      <td>2017-08-22 16:25:00+00:00</td>\n",
       "      <td>2017-08-22 17:10:00+00:00</td>\n",
       "      <td>SKX</td>\n",
       "      <td>SVO</td>\n",
       "      <td>Scheduled</td>\n",
       "      <td>CR2</td>\n",
       "      <td>NaT</td>\n",
       "      <td>NaT</td>\n",
       "    </tr>\n",
       "  </tbody>\n",
       "</table>\n",
       "<p>65664 rows × 10 columns</p>\n",
       "</div>"
      ],
      "text/plain": [
       "       flight_id flight_no       scheduled_departure  \\\n",
       "0            182    PG0402 2017-09-01 09:25:00+00:00   \n",
       "1           1996    PG0335 2017-08-26 06:30:00+00:00   \n",
       "2           5979    PG0384 2017-08-26 09:10:00+00:00   \n",
       "3           8136    PG0138 2017-08-28 07:15:00+00:00   \n",
       "4          10455    PG0277 2017-09-12 08:45:00+00:00   \n",
       "...          ...       ...                       ...   \n",
       "65659      65660    PG0063 2017-06-26 16:25:00+00:00   \n",
       "65660      65661    PG0063 2017-08-10 16:25:00+00:00   \n",
       "65661      65662    PG0063 2017-06-16 16:25:00+00:00   \n",
       "65662      65663    PG0063 2017-09-10 16:25:00+00:00   \n",
       "65663      65664    PG0063 2017-08-22 16:25:00+00:00   \n",
       "\n",
       "              scheduled_arrival departure_airport arrival_airport     status  \\\n",
       "0     2017-09-01 10:20:00+00:00               DME             LED  Scheduled   \n",
       "1     2017-08-26 08:35:00+00:00               DME             JOK  Scheduled   \n",
       "2     2017-08-26 09:40:00+00:00               DME             BZK  Scheduled   \n",
       "3     2017-08-28 08:20:00+00:00               VKO             RTW  Scheduled   \n",
       "4     2017-09-12 12:10:00+00:00               SVO             OVB  Scheduled   \n",
       "...                         ...               ...             ...        ...   \n",
       "65659 2017-06-26 17:10:00+00:00               SKX             SVO    Arrived   \n",
       "65660 2017-08-10 17:10:00+00:00               SKX             SVO    Arrived   \n",
       "65661 2017-06-16 17:10:00+00:00               SKX             SVO    Arrived   \n",
       "65662 2017-09-10 17:10:00+00:00               SKX             SVO  Scheduled   \n",
       "65663 2017-08-22 17:10:00+00:00               SKX             SVO  Scheduled   \n",
       "\n",
       "      aircraft_code          actual_departure            actual_arrival  \n",
       "0               321                       NaT                       NaT  \n",
       "1               CN1                       NaT                       NaT  \n",
       "2               SU9                       NaT                       NaT  \n",
       "3               CR2                       NaT                       NaT  \n",
       "4               773                       NaT                       NaT  \n",
       "...             ...                       ...                       ...  \n",
       "65659           CR2 2017-06-26 16:27:00+00:00 2017-06-26 17:12:00+00:00  \n",
       "65660           CR2 2017-08-10 16:27:00+00:00 2017-08-10 17:13:00+00:00  \n",
       "65661           CR2 2017-06-16 16:28:00+00:00 2017-06-16 17:14:00+00:00  \n",
       "65662           CR2                       NaT                       NaT  \n",
       "65663           CR2                       NaT                       NaT  \n",
       "\n",
       "[65664 rows x 10 columns]"
      ]
     },
     "execution_count": 54,
     "metadata": {},
     "output_type": "execute_result"
    }
   ],
   "source": [
    "import psycopg2\n",
    "engine=psycopg2.connect(\"dbname='demo' user='postgres' host='localhost' port='5432' password='123'\")\n",
    "df=pd.read_sql('select * from flights', con=engine)\n",
    "df"
   ]
  },
  {
   "cell_type": "code",
   "execution_count": 1,
   "id": "2cbf61b1-aae7-448d-9fdd-dee09c4cedd4",
   "metadata": {},
   "outputs": [],
   "source": [
    "import numpy as n"
   ]
  },
  {
   "cell_type": "code",
   "execution_count": null,
   "id": "6a28bd9b-7264-48ee-b2ce-df3f23d51869",
   "metadata": {},
   "outputs": [],
   "source": [
    "#Запрос к БД. Вывод информации по загрузке рейсов"
   ]
  },
  {
   "cell_type": "code",
   "execution_count": 61,
   "id": "3d44fa25-a81d-40ac-8f52-ab4eafabfaa4",
   "metadata": {},
   "outputs": [
    {
     "name": "stderr",
     "output_type": "stream",
     "text": [
      "C:\\Users\\#slash\\AppData\\Local\\Temp\\ipykernel_10400\\1431805813.py:40: UserWarning: pandas only supports SQLAlchemy connectable (engine/connection) or database string URI or sqlite3 DBAPI2 connection. Other DBAPI2 objects are not tested. Please consider using SQLAlchemy.\n",
      "  df=pd.read_sql(query, con=engine)\n"
     ]
    }
   ],
   "source": [
    "import psycopg2\n",
    "query= f\"\"\"\n",
    "WITH commers_load AS\n",
    "(SELECT \n",
    "fl.flight_id,\n",
    "fl.flight_no,\n",
    "fl.scheduled_departure,\n",
    "fl.departure_airport,\n",
    "fl.arrival_airport,\n",
    "fl.aircraft_code,\n",
    "count(tf.ticket_no) AS fact,\n",
    "\t(SELECT \n",
    "\t   COUNT(st.seat_no)\n",
    "\t   FROM seats AS st\n",
    "\t   WHERE st.aircraft_code=fl.aircraft_code) AS total_seats\n",
    "\n",
    "FROM flights AS fl\n",
    "INNER JOIN ticket_flights AS tf\n",
    "ON fl.flight_id=tf.flight_id\n",
    "WHERE fl.status = 'Arrived'\n",
    "GROUP BY 1, 2, 3, 4)\n",
    "SELECT \n",
    "commers_load.flight_id,\n",
    "commers_load.flight_no,\n",
    "commers_load.scheduled_departure,\n",
    "commers_load.departure_airport,\n",
    "commers_load.arrival_airport,\n",
    "commers_load.fact,\n",
    "commers_load.total_seats,\n",
    "ad.model,\n",
    "ROUND (commers_load.fact::numeric/commers_load.total_seats::numeric, 2) AS fraction,\n",
    "case when ROUND(commers_load.fact::numeric/commers_load.total_seats::numeric, 2) < 0.10 then 'полет убыточный'\n",
    "else 'в пределах нормы'\n",
    "end AS status\n",
    "FROM commers_load \n",
    "INNER JOIN aircrafts_data AS ad\n",
    "ON commers_load.aircraft_code=ad.aircraft_code\n",
    "ORDER BY commers_load.scheduled_departure\"\"\"\n",
    "engine=psycopg2.connect(\"dbname='demo' user='postgres' host='localhost' port='5432' password='123'\")\n",
    "df=pd.read_sql(query, con=engine)"
   ]
  },
  {
   "cell_type": "code",
   "execution_count": 62,
   "id": "cd497976-53a8-4a85-ac1e-95451e5f3ec9",
   "metadata": {},
   "outputs": [],
   "source": [
    "#Вывод первых 15-ти строк"
   ]
  },
  {
   "cell_type": "code",
   "execution_count": 97,
   "id": "d55da93f-394a-4336-9a86-0fb8e857e3f3",
   "metadata": {},
   "outputs": [
    {
     "data": {
      "text/html": [
       "<div>\n",
       "<style scoped>\n",
       "    .dataframe tbody tr th:only-of-type {\n",
       "        vertical-align: middle;\n",
       "    }\n",
       "\n",
       "    .dataframe tbody tr th {\n",
       "        vertical-align: top;\n",
       "    }\n",
       "\n",
       "    .dataframe thead th {\n",
       "        text-align: right;\n",
       "    }\n",
       "</style>\n",
       "<table border=\"1\" class=\"dataframe\">\n",
       "  <thead>\n",
       "    <tr style=\"text-align: right;\">\n",
       "      <th></th>\n",
       "      <th>flight_id</th>\n",
       "      <th>flight_no</th>\n",
       "      <th>scheduled_departure</th>\n",
       "      <th>departure_airport</th>\n",
       "      <th>arrival_airport</th>\n",
       "      <th>fact</th>\n",
       "      <th>total_seats</th>\n",
       "      <th>model</th>\n",
       "      <th>fraction</th>\n",
       "      <th>status</th>\n",
       "    </tr>\n",
       "  </thead>\n",
       "  <tbody>\n",
       "    <tr>\n",
       "      <th>0</th>\n",
       "      <td>52986</td>\n",
       "      <td>PG0328</td>\n",
       "      <td>2017-05-16 23:45:00+00:00</td>\n",
       "      <td>VVO</td>\n",
       "      <td>KHV</td>\n",
       "      <td>39</td>\n",
       "      <td>97</td>\n",
       "      <td>{'en': 'Sukhoi Superjet-100', 'ru': 'Сухой Суп...</td>\n",
       "      <td>0.40</td>\n",
       "      <td>в пределах нормы</td>\n",
       "    </tr>\n",
       "    <tr>\n",
       "      <th>1</th>\n",
       "      <td>31219</td>\n",
       "      <td>PG0244</td>\n",
       "      <td>2017-05-17 00:20:00+00:00</td>\n",
       "      <td>YKS</td>\n",
       "      <td>LED</td>\n",
       "      <td>5</td>\n",
       "      <td>116</td>\n",
       "      <td>{'en': 'Airbus A319-100', 'ru': 'Аэробус A319-...</td>\n",
       "      <td>0.04</td>\n",
       "      <td>полет убыточный</td>\n",
       "    </tr>\n",
       "    <tr>\n",
       "      <th>2</th>\n",
       "      <td>52831</td>\n",
       "      <td>PG0660</td>\n",
       "      <td>2017-05-17 00:55:00+00:00</td>\n",
       "      <td>VVO</td>\n",
       "      <td>IKT</td>\n",
       "      <td>1</td>\n",
       "      <td>50</td>\n",
       "      <td>{'en': 'Bombardier CRJ-200', 'ru': 'Бомбардье ...</td>\n",
       "      <td>0.02</td>\n",
       "      <td>полет убыточный</td>\n",
       "    </tr>\n",
       "    <tr>\n",
       "      <th>3</th>\n",
       "      <td>49972</td>\n",
       "      <td>PG0199</td>\n",
       "      <td>2017-05-17 01:35:00+00:00</td>\n",
       "      <td>IKT</td>\n",
       "      <td>LED</td>\n",
       "      <td>12</td>\n",
       "      <td>170</td>\n",
       "      <td>{'en': 'Airbus A321-200', 'ru': 'Аэробус A321-...</td>\n",
       "      <td>0.07</td>\n",
       "      <td>полет убыточный</td>\n",
       "    </tr>\n",
       "    <tr>\n",
       "      <th>4</th>\n",
       "      <td>52072</td>\n",
       "      <td>PG0357</td>\n",
       "      <td>2017-05-17 02:05:00+00:00</td>\n",
       "      <td>KHV</td>\n",
       "      <td>LED</td>\n",
       "      <td>24</td>\n",
       "      <td>222</td>\n",
       "      <td>{'en': 'Boeing 767-300', 'ru': 'Боинг 767-300'}</td>\n",
       "      <td>0.11</td>\n",
       "      <td>в пределах нормы</td>\n",
       "    </tr>\n",
       "    <tr>\n",
       "      <th>5</th>\n",
       "      <td>34706</td>\n",
       "      <td>PG0135</td>\n",
       "      <td>2017-05-17 02:25:00+00:00</td>\n",
       "      <td>BTK</td>\n",
       "      <td>DME</td>\n",
       "      <td>8</td>\n",
       "      <td>116</td>\n",
       "      <td>{'en': 'Airbus A319-100', 'ru': 'Аэробус A319-...</td>\n",
       "      <td>0.07</td>\n",
       "      <td>полет убыточный</td>\n",
       "    </tr>\n",
       "    <tr>\n",
       "      <th>6</th>\n",
       "      <td>38894</td>\n",
       "      <td>PG0391</td>\n",
       "      <td>2017-05-17 02:40:00+00:00</td>\n",
       "      <td>MJZ</td>\n",
       "      <td>OVB</td>\n",
       "      <td>4</td>\n",
       "      <td>50</td>\n",
       "      <td>{'en': 'Bombardier CRJ-200', 'ru': 'Бомбардье ...</td>\n",
       "      <td>0.08</td>\n",
       "      <td>полет убыточный</td>\n",
       "    </tr>\n",
       "    <tr>\n",
       "      <th>7</th>\n",
       "      <td>53723</td>\n",
       "      <td>PG0592</td>\n",
       "      <td>2017-05-17 03:00:00+00:00</td>\n",
       "      <td>TOF</td>\n",
       "      <td>SVO</td>\n",
       "      <td>8</td>\n",
       "      <td>97</td>\n",
       "      <td>{'en': 'Sukhoi Superjet-100', 'ru': 'Сухой Суп...</td>\n",
       "      <td>0.08</td>\n",
       "      <td>полет убыточный</td>\n",
       "    </tr>\n",
       "    <tr>\n",
       "      <th>8</th>\n",
       "      <td>50542</td>\n",
       "      <td>PG0659</td>\n",
       "      <td>2017-05-17 03:30:00+00:00</td>\n",
       "      <td>IKT</td>\n",
       "      <td>VVO</td>\n",
       "      <td>4</td>\n",
       "      <td>50</td>\n",
       "      <td>{'en': 'Bombardier CRJ-200', 'ru': 'Бомбардье ...</td>\n",
       "      <td>0.08</td>\n",
       "      <td>полет убыточный</td>\n",
       "    </tr>\n",
       "    <tr>\n",
       "      <th>9</th>\n",
       "      <td>39244</td>\n",
       "      <td>PG0035</td>\n",
       "      <td>2017-05-17 03:35:00+00:00</td>\n",
       "      <td>MJZ</td>\n",
       "      <td>CNN</td>\n",
       "      <td>2</td>\n",
       "      <td>12</td>\n",
       "      <td>{'en': 'Cessna 208 Caravan', 'ru': 'Сессна 208...</td>\n",
       "      <td>0.17</td>\n",
       "      <td>в пределах нормы</td>\n",
       "    </tr>\n",
       "    <tr>\n",
       "      <th>10</th>\n",
       "      <td>41490</td>\n",
       "      <td>PG0379</td>\n",
       "      <td>2017-05-17 03:40:00+00:00</td>\n",
       "      <td>NSK</td>\n",
       "      <td>SVX</td>\n",
       "      <td>10</td>\n",
       "      <td>97</td>\n",
       "      <td>{'en': 'Sukhoi Superjet-100', 'ru': 'Сухой Суп...</td>\n",
       "      <td>0.10</td>\n",
       "      <td>в пределах нормы</td>\n",
       "    </tr>\n",
       "    <tr>\n",
       "      <th>11</th>\n",
       "      <td>33714</td>\n",
       "      <td>PG0141</td>\n",
       "      <td>2017-05-17 04:00:00+00:00</td>\n",
       "      <td>KXK</td>\n",
       "      <td>SVX</td>\n",
       "      <td>10</td>\n",
       "      <td>222</td>\n",
       "      <td>{'en': 'Boeing 767-300', 'ru': 'Боинг 767-300'}</td>\n",
       "      <td>0.05</td>\n",
       "      <td>полет убыточный</td>\n",
       "    </tr>\n",
       "    <tr>\n",
       "      <th>12</th>\n",
       "      <td>43586</td>\n",
       "      <td>PG0240</td>\n",
       "      <td>2017-05-17 04:15:00+00:00</td>\n",
       "      <td>HMA</td>\n",
       "      <td>DME</td>\n",
       "      <td>4</td>\n",
       "      <td>97</td>\n",
       "      <td>{'en': 'Sukhoi Superjet-100', 'ru': 'Сухой Суп...</td>\n",
       "      <td>0.04</td>\n",
       "      <td>полет убыточный</td>\n",
       "    </tr>\n",
       "    <tr>\n",
       "      <th>13</th>\n",
       "      <td>29733</td>\n",
       "      <td>PG0683</td>\n",
       "      <td>2017-05-17 04:15:00+00:00</td>\n",
       "      <td>PEE</td>\n",
       "      <td>ULV</td>\n",
       "      <td>32</td>\n",
       "      <td>97</td>\n",
       "      <td>{'en': 'Sukhoi Superjet-100', 'ru': 'Сухой Суп...</td>\n",
       "      <td>0.33</td>\n",
       "      <td>в пределах нормы</td>\n",
       "    </tr>\n",
       "    <tr>\n",
       "      <th>14</th>\n",
       "      <td>28069</td>\n",
       "      <td>PG0689</td>\n",
       "      <td>2017-05-17 04:25:00+00:00</td>\n",
       "      <td>KJA</td>\n",
       "      <td>OVS</td>\n",
       "      <td>46</td>\n",
       "      <td>97</td>\n",
       "      <td>{'en': 'Sukhoi Superjet-100', 'ru': 'Сухой Суп...</td>\n",
       "      <td>0.47</td>\n",
       "      <td>в пределах нормы</td>\n",
       "    </tr>\n",
       "  </tbody>\n",
       "</table>\n",
       "</div>"
      ],
      "text/plain": [
       "    flight_id flight_no       scheduled_departure departure_airport  \\\n",
       "0       52986    PG0328 2017-05-16 23:45:00+00:00               VVO   \n",
       "1       31219    PG0244 2017-05-17 00:20:00+00:00               YKS   \n",
       "2       52831    PG0660 2017-05-17 00:55:00+00:00               VVO   \n",
       "3       49972    PG0199 2017-05-17 01:35:00+00:00               IKT   \n",
       "4       52072    PG0357 2017-05-17 02:05:00+00:00               KHV   \n",
       "5       34706    PG0135 2017-05-17 02:25:00+00:00               BTK   \n",
       "6       38894    PG0391 2017-05-17 02:40:00+00:00               MJZ   \n",
       "7       53723    PG0592 2017-05-17 03:00:00+00:00               TOF   \n",
       "8       50542    PG0659 2017-05-17 03:30:00+00:00               IKT   \n",
       "9       39244    PG0035 2017-05-17 03:35:00+00:00               MJZ   \n",
       "10      41490    PG0379 2017-05-17 03:40:00+00:00               NSK   \n",
       "11      33714    PG0141 2017-05-17 04:00:00+00:00               KXK   \n",
       "12      43586    PG0240 2017-05-17 04:15:00+00:00               HMA   \n",
       "13      29733    PG0683 2017-05-17 04:15:00+00:00               PEE   \n",
       "14      28069    PG0689 2017-05-17 04:25:00+00:00               KJA   \n",
       "\n",
       "   arrival_airport  fact  total_seats  \\\n",
       "0              KHV    39           97   \n",
       "1              LED     5          116   \n",
       "2              IKT     1           50   \n",
       "3              LED    12          170   \n",
       "4              LED    24          222   \n",
       "5              DME     8          116   \n",
       "6              OVB     4           50   \n",
       "7              SVO     8           97   \n",
       "8              VVO     4           50   \n",
       "9              CNN     2           12   \n",
       "10             SVX    10           97   \n",
       "11             SVX    10          222   \n",
       "12             DME     4           97   \n",
       "13             ULV    32           97   \n",
       "14             OVS    46           97   \n",
       "\n",
       "                                                model  fraction  \\\n",
       "0   {'en': 'Sukhoi Superjet-100', 'ru': 'Сухой Суп...      0.40   \n",
       "1   {'en': 'Airbus A319-100', 'ru': 'Аэробус A319-...      0.04   \n",
       "2   {'en': 'Bombardier CRJ-200', 'ru': 'Бомбардье ...      0.02   \n",
       "3   {'en': 'Airbus A321-200', 'ru': 'Аэробус A321-...      0.07   \n",
       "4     {'en': 'Boeing 767-300', 'ru': 'Боинг 767-300'}      0.11   \n",
       "5   {'en': 'Airbus A319-100', 'ru': 'Аэробус A319-...      0.07   \n",
       "6   {'en': 'Bombardier CRJ-200', 'ru': 'Бомбардье ...      0.08   \n",
       "7   {'en': 'Sukhoi Superjet-100', 'ru': 'Сухой Суп...      0.08   \n",
       "8   {'en': 'Bombardier CRJ-200', 'ru': 'Бомбардье ...      0.08   \n",
       "9   {'en': 'Cessna 208 Caravan', 'ru': 'Сессна 208...      0.17   \n",
       "10  {'en': 'Sukhoi Superjet-100', 'ru': 'Сухой Суп...      0.10   \n",
       "11    {'en': 'Boeing 767-300', 'ru': 'Боинг 767-300'}      0.05   \n",
       "12  {'en': 'Sukhoi Superjet-100', 'ru': 'Сухой Суп...      0.04   \n",
       "13  {'en': 'Sukhoi Superjet-100', 'ru': 'Сухой Суп...      0.33   \n",
       "14  {'en': 'Sukhoi Superjet-100', 'ru': 'Сухой Суп...      0.47   \n",
       "\n",
       "              status  \n",
       "0   в пределах нормы  \n",
       "1    полет убыточный  \n",
       "2    полет убыточный  \n",
       "3    полет убыточный  \n",
       "4   в пределах нормы  \n",
       "5    полет убыточный  \n",
       "6    полет убыточный  \n",
       "7    полет убыточный  \n",
       "8    полет убыточный  \n",
       "9   в пределах нормы  \n",
       "10  в пределах нормы  \n",
       "11   полет убыточный  \n",
       "12   полет убыточный  \n",
       "13  в пределах нормы  \n",
       "14  в пределах нормы  "
      ]
     },
     "execution_count": 97,
     "metadata": {},
     "output_type": "execute_result"
    }
   ],
   "source": [
    "df.head(15)"
   ]
  },
  {
   "cell_type": "code",
   "execution_count": 67,
   "id": "ad02bc39-14d7-494b-bfa0-0099e5a459a5",
   "metadata": {},
   "outputs": [],
   "source": [
    "# вывод типов данных"
   ]
  },
  {
   "cell_type": "code",
   "execution_count": 77,
   "id": "8ad4b4ae-c4f5-4061-972b-65c83c66b0c7",
   "metadata": {},
   "outputs": [
    {
     "data": {
      "text/plain": [
       "pandas.core.frame.DataFrame"
      ]
     },
     "execution_count": 77,
     "metadata": {},
     "output_type": "execute_result"
    }
   ],
   "source": [
    "type (df)"
   ]
  },
  {
   "cell_type": "code",
   "execution_count": 70,
   "id": "385134eb-3b6b-4e71-9cda-8f0edd12d320",
   "metadata": {},
   "outputs": [
    {
     "data": {
      "text/plain": [
       "flight_id                            int64\n",
       "flight_no                           object\n",
       "scheduled_departure    datetime64[ns, UTC]\n",
       "departure_airport                   object\n",
       "arrival_airport                     object\n",
       "fact                                 int64\n",
       "total_seats                          int64\n",
       "model                               object\n",
       "fraction                           float64\n",
       "status                              object\n",
       "dtype: object"
      ]
     },
     "execution_count": 70,
     "metadata": {},
     "output_type": "execute_result"
    }
   ],
   "source": [
    "df.dtypes"
   ]
  },
  {
   "cell_type": "code",
   "execution_count": null,
   "id": "a8fdebf9-0b96-4e2d-81a0-799c15c432a3",
   "metadata": {},
   "outputs": [],
   "source": [
    "#число уникальных значений по столбцу \"model\""
   ]
  },
  {
   "cell_type": "code",
   "execution_count": 117,
   "id": "50c63aa1-91e8-4cbf-bd83-0739a9d27cf9",
   "metadata": {},
   "outputs": [
    {
     "name": "stdout",
     "output_type": "stream",
     "text": [
      "model\n",
      "{'en': 'Bombardier CRJ-200', 'ru': 'Бомбардье CRJ-200'}       11627\n",
      "{'en': 'Sukhoi Superjet-100', 'ru': 'Сухой Суперджет-100'}    10576\n",
      "{'en': 'Cessna 208 Caravan', 'ru': 'Сессна 208 Караван'}       4130\n",
      "{'en': 'Airbus A321-200', 'ru': 'Аэробус A321-200'}            1962\n",
      "{'en': 'Boeing 767-300', 'ru': 'Боинг 767-300'}                1800\n",
      "{'en': 'Boeing 737-300', 'ru': 'Боинг 737-300'}                1759\n",
      "{'en': 'Airbus A319-100', 'ru': 'Аэробус A319-100'}            1625\n",
      "{'en': 'Boeing 777-300', 'ru': 'Боинг 777-300'}                 907\n",
      "Name: count, dtype: int64\n"
     ]
    }
   ],
   "source": [
    "b=df['model'].value_counts()\n",
    "print(b)"
   ]
  },
  {
   "cell_type": "code",
   "execution_count": null,
   "id": "5fec718d-5a52-48fd-ada7-2f8eb8a4c8ab",
   "metadata": {},
   "outputs": [],
   "source": [
    "#число повторяющихся значений по столбцам"
   ]
  },
  {
   "cell_type": "code",
   "execution_count": 149,
   "id": "fd39851f-a5c4-4db9-98b4-6e194f74e809",
   "metadata": {},
   "outputs": [
    {
     "name": "stdout",
     "output_type": "stream",
     "text": [
      "flight_id                  0\n",
      "flight_no              33916\n",
      "scheduled_departure    20410\n",
      "departure_airport      34292\n",
      "arrival_airport        34292\n",
      "fact                   34029\n",
      "total_seats            34378\n",
      "model                  34378\n",
      "fraction               34285\n",
      "status                 34384\n",
      "dtype: int64\n"
     ]
    }
   ],
   "source": [
    "df1=df.apply(lambda x:sum(x.duplicated()))\n",
    "print(df1)"
   ]
  },
  {
   "cell_type": "code",
   "execution_count": null,
   "id": "73834963-8e2a-4006-ad2b-f3b119931486",
   "metadata": {},
   "outputs": [],
   "source": [
    "#минимальное значение по столбцу 'total_seats(int64)'"
   ]
  },
  {
   "cell_type": "code",
   "execution_count": 173,
   "id": "b0f335fb-5d02-49b5-b3ff-7f988e41495d",
   "metadata": {},
   "outputs": [
    {
     "name": "stdout",
     "output_type": "stream",
     "text": [
      "минимальное кол-во мест в самолете: 12\n"
     ]
    }
   ],
   "source": [
    "value_min=df['total_seats'].min()\n",
    "print('минимальное кол-во мест в самолете:', value_min)"
   ]
  },
  {
   "cell_type": "code",
   "execution_count": null,
   "id": "2fad6b6d-411b-418e-81f0-382b6c093fcf",
   "metadata": {},
   "outputs": [],
   "source": [
    "#максимальное значение количества мест в самолете(столбец 'total_seats')"
   ]
  },
  {
   "cell_type": "code",
   "execution_count": 175,
   "id": "4167837e-bd7e-4793-8f5c-fe25b28d16ec",
   "metadata": {},
   "outputs": [
    {
     "name": "stdout",
     "output_type": "stream",
     "text": [
      "максимальное кол-во мест в самолете: 402\n"
     ]
    }
   ],
   "source": [
    "value_max=df['total_seats'].max()\n",
    "print('максимальное кол-во мест в самолете:', value_max)"
   ]
  },
  {
   "cell_type": "code",
   "execution_count": null,
   "id": "79e534f7-ee5c-4233-b48a-391d2d85f7d4",
   "metadata": {},
   "outputs": [],
   "source": [
    "#максимальное значение по загрузке самолета, где 1.0-100%"
   ]
  },
  {
   "cell_type": "code",
   "execution_count": 171,
   "id": "62185783-5f68-44b1-ad19-cd0562488588",
   "metadata": {},
   "outputs": [
    {
     "name": "stdout",
     "output_type": "stream",
     "text": [
      "максимальное значение: 1.0\n"
     ]
    }
   ],
   "source": [
    "value_max=df['fraction'].max()\n",
    "print('максимальное значение:', value_max)"
   ]
  },
  {
   "cell_type": "code",
   "execution_count": null,
   "id": "b2fb94d9-f478-41ad-9e0d-6b81eadff9ed",
   "metadata": {},
   "outputs": [],
   "source": [
    "#подсчет медианы по загрузке рейсов(столбец 'fraction')"
   ]
  },
  {
   "cell_type": "code",
   "execution_count": 195,
   "id": "f4ef3124-76c2-4bda-b95a-f20ac6b706bc",
   "metadata": {},
   "outputs": [
    {
     "name": "stdout",
     "output_type": "stream",
     "text": [
      "0.58\n"
     ]
    }
   ],
   "source": [
    "med=df['fraction'].median()\n",
    "print(med)"
   ]
  },
  {
   "cell_type": "code",
   "execution_count": null,
   "id": "a0f56b16-a5de-4eb8-b2c8-8af33723b1bc",
   "metadata": {},
   "outputs": [],
   "source": [
    "#подсчет среднего значения загрузки рейсов (столбец 'fraction')"
   ]
  },
  {
   "cell_type": "code",
   "execution_count": 213,
   "id": "571b2a80-e533-4803-9a8f-d29060a3e08a",
   "metadata": {},
   "outputs": [
    {
     "data": {
      "text/plain": [
       "0.5616823707322747"
      ]
     },
     "execution_count": 213,
     "metadata": {},
     "output_type": "execute_result"
    }
   ],
   "source": [
    "sred=df['fraction'].mean()\n",
    "sred\n"
   ]
  },
  {
   "cell_type": "code",
   "execution_count": null,
   "id": "d1211c88-f703-41f1-a493-32024e0c36f5",
   "metadata": {},
   "outputs": [],
   "source": []
  }
 ],
 "metadata": {
  "kernelspec": {
   "display_name": "Python 3 (ipykernel)",
   "language": "python",
   "name": "python3"
  },
  "language_info": {
   "codemirror_mode": {
    "name": "ipython",
    "version": 3
   },
   "file_extension": ".py",
   "mimetype": "text/x-python",
   "name": "python",
   "nbconvert_exporter": "python",
   "pygments_lexer": "ipython3",
   "version": "3.12.4"
  }
 },
 "nbformat": 4,
 "nbformat_minor": 5
}
